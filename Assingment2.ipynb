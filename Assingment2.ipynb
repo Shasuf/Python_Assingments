{
  "nbformat": 4,
  "nbformat_minor": 0,
  "metadata": {
    "colab": {
      "name": "Assingment2.ipynb",
      "provenance": [],
      "authorship_tag": "ABX9TyPoDhP7fSr59SAiyVl6S7XV",
      "include_colab_link": true
    },
    "kernelspec": {
      "name": "python3",
      "display_name": "Python 3"
    },
    "language_info": {
      "name": "python"
    }
  },
  "cells": [
    {
      "cell_type": "markdown",
      "metadata": {
        "id": "view-in-github",
        "colab_type": "text"
      },
      "source": [
        "<a href=\"https://colab.research.google.com/github/Shasuf/Python_Assingments/blob/main/Assingment2.ipynb\" target=\"_parent\"><img src=\"https://colab.research.google.com/assets/colab-badge.svg\" alt=\"Open In Colab\"/></a>"
      ]
    },
    {
      "cell_type": "code",
      "execution_count": null,
      "metadata": {
        "id": "rmrX-SMO_e8S"
      },
      "outputs": [],
      "source": [
        "1.What are the two values of the Boolean data type? How do you write them?\n",
        "\n",
        "True  and False are the two datatypes\n",
        "\n",
        "a=True\n",
        "b=False"
      ]
    },
    {
      "cell_type": "code",
      "source": [
        "2. What are the three different types of Boolean operators?\n",
        "\n",
        "AND, OR ,NOT"
      ],
      "metadata": {
        "id": "GMPS41plA9Cv"
      },
      "execution_count": null,
      "outputs": []
    },
    {
      "cell_type": "code",
      "source": [
        "3. Make a list of each Boolean operator&  truth tables (i.e. every possible combination of Boolean\n",
        "values for the operator and what it evaluate )\n",
        "\n",
        "0*0=0        \n",
        "0*1=0\n",
        "1*0=0\n",
        "1*1=1\n",
        "\n",
        "0+0=0   \n",
        "0+1=1\n",
        "1+0=1\n",
        "1+1=1\n",
        "\n",
        "\n",
        "\n",
        "\n"
      ],
      "metadata": {
        "id": "WugfKRbGBOtb"
      },
      "execution_count": null,
      "outputs": []
    },
    {
      "cell_type": "code",
      "source": [
        "#4. What are the values of the following expressions?\n",
        "\n",
        "(5>4) and (3==5)"
      ],
      "metadata": {
        "colab": {
          "base_uri": "https://localhost:8080/"
        },
        "id": "OOJiNln1IcLO",
        "outputId": "db6177bb-9ae9-4779-943b-480935813705"
      },
      "execution_count": 1,
      "outputs": [
        {
          "output_type": "execute_result",
          "data": {
            "text/plain": [
              "False"
            ]
          },
          "metadata": {},
          "execution_count": 1
        }
      ]
    },
    {
      "cell_type": "code",
      "source": [
        "not (5>4)"
      ],
      "metadata": {
        "colab": {
          "base_uri": "https://localhost:8080/"
        },
        "id": "mdCBRoPnIyHy",
        "outputId": "f4e43299-1add-427e-8388-ee1921abf412"
      },
      "execution_count": 2,
      "outputs": [
        {
          "output_type": "execute_result",
          "data": {
            "text/plain": [
              "False"
            ]
          },
          "metadata": {},
          "execution_count": 2
        }
      ]
    },
    {
      "cell_type": "code",
      "source": [
        " (5>4) or (3==5)"
      ],
      "metadata": {
        "colab": {
          "base_uri": "https://localhost:8080/"
        },
        "id": "dWi9wXmcJA-I",
        "outputId": "25bd49b9-29c2-45cc-c382-3bd6edf1c8aa"
      },
      "execution_count": 5,
      "outputs": [
        {
          "output_type": "execute_result",
          "data": {
            "text/plain": [
              "True"
            ]
          },
          "metadata": {},
          "execution_count": 5
        }
      ]
    },
    {
      "cell_type": "code",
      "source": [
        "5. What are the six comparison operators?\n",
        "\n",
        "<,>,==,!=,>=,<="
      ],
      "metadata": {
        "id": "X5dFY6zOJOJr"
      },
      "execution_count": null,
      "outputs": []
    },
    {
      "cell_type": "code",
      "source": [
        "spam = 0\n",
        "if spam == 10:\n",
        "  print(\"eggs\")\n",
        "  if spam >5:\n",
        "    print(\"beacon\")\n",
        "else:\n",
        "  print(\"ham\")\n",
        "  print(\"spam\")\n",
        "  print(\"spam\")"
      ],
      "metadata": {
        "colab": {
          "base_uri": "https://localhost:8080/"
        },
        "id": "jGtpSUPWJpdb",
        "outputId": "55b18c72-622b-43a2-a968-f45a3c801071"
      },
      "execution_count": 7,
      "outputs": [
        {
          "output_type": "stream",
          "name": "stdout",
          "text": [
            "ham\n",
            "spam\n",
            "spam\n"
          ]
        }
      ]
    },
    {
      "cell_type": "code",
      "source": [
        "#8. Write code that prints Hello if 1 is stored in spam, prints Howdy if 2 is stored in spam, and prints\n",
        "#Greetings! if anything else is stored in spam.\n",
        "\n",
        "spam=int(input(\"enter number \"))\n",
        "\n",
        "if spam == 1:\n",
        "  print(\"hello\")\n",
        "elif spam ==2:\n",
        "    print(\"how is your day\")\n",
        "else:\n",
        "  print(\"greetings\")\n",
        "\n"
      ],
      "metadata": {
        "colab": {
          "base_uri": "https://localhost:8080/"
        },
        "id": "b6NSD5UBKT5A",
        "outputId": "6c4e42f8-52e4-4b25-c29b-085fdffca9aa"
      },
      "execution_count": 11,
      "outputs": [
        {
          "output_type": "stream",
          "name": "stdout",
          "text": [
            "enter number 3\n",
            "greetings\n"
          ]
        }
      ]
    },
    {
      "cell_type": "code",
      "source": [
        "9.If your programme is stuck in an endless loop, what keys you’ll press?\n",
        "\n",
        "crt+c"
      ],
      "metadata": {
        "id": "QdYaOKzqJpfu"
      },
      "execution_count": null,
      "outputs": []
    },
    {
      "cell_type": "code",
      "source": [
        "How can you tell the difference between break and continue?\n",
        "\n",
        "break stops the loop\n",
        "continue - continues the loop\n"
      ],
      "metadata": {
        "id": "WWh5vGD9Jphv"
      },
      "execution_count": null,
      "outputs": []
    },
    {
      "cell_type": "code",
      "source": [
        "#In a for loop, what is the difference between range(10), range(0, 10), and range(0, 10, 1)?\n",
        "\n",
        "list(range(10))\n"
      ],
      "metadata": {
        "colab": {
          "base_uri": "https://localhost:8080/"
        },
        "id": "VJVO1uaTLfnR",
        "outputId": "195850a1-0899-4e2a-9d68-41136eab8ef3"
      },
      "execution_count": 16,
      "outputs": [
        {
          "output_type": "execute_result",
          "data": {
            "text/plain": [
              "[0, 1, 2, 3, 4, 5, 6, 7, 8, 9]"
            ]
          },
          "metadata": {},
          "execution_count": 16
        }
      ]
    },
    {
      "cell_type": "code",
      "source": [
        "list(range(0,10))"
      ],
      "metadata": {
        "colab": {
          "base_uri": "https://localhost:8080/"
        },
        "id": "ZhgsEv_qJpmv",
        "outputId": "506d1f5a-42d0-4c1d-c362-6fc986bf61df"
      },
      "execution_count": 15,
      "outputs": [
        {
          "output_type": "execute_result",
          "data": {
            "text/plain": [
              "[0, 1, 2, 3, 4, 5, 6, 7, 8, 9]"
            ]
          },
          "metadata": {},
          "execution_count": 15
        }
      ]
    },
    {
      "cell_type": "code",
      "source": [
        "list(range(0,10,1)) #skips 1 number"
      ],
      "metadata": {
        "colab": {
          "base_uri": "https://localhost:8080/"
        },
        "id": "Vy_DJ5u9Jpoz",
        "outputId": "476dd000-b10f-402a-ae8d-deb5a12272f2"
      },
      "execution_count": 20,
      "outputs": [
        {
          "output_type": "execute_result",
          "data": {
            "text/plain": [
              "[0, 1, 2, 3, 4, 5, 6, 7, 8, 9]"
            ]
          },
          "metadata": {},
          "execution_count": 20
        }
      ]
    },
    {
      "cell_type": "code",
      "source": [
        "#12. Write a short program that prints the numbers 1 to 10 using a for loop. Then write an equivalent\n",
        "#program that prints the numbers 1 to 10 using a while loop.\n",
        "\n",
        "for i in range(10):\n",
        "  print(\"the number is\",i)"
      ],
      "metadata": {
        "colab": {
          "base_uri": "https://localhost:8080/"
        },
        "id": "Dh-1covCJprX",
        "outputId": "a4aad803-c8f1-420c-db60-31359d73c83c"
      },
      "execution_count": 22,
      "outputs": [
        {
          "output_type": "stream",
          "name": "stdout",
          "text": [
            "the number is 0\n",
            "the number is 1\n",
            "the number is 2\n",
            "the number is 3\n",
            "the number is 4\n",
            "the number is 5\n",
            "the number is 6\n",
            "the number is 7\n",
            "the number is 8\n",
            "the number is 9\n"
          ]
        }
      ]
    },
    {
      "cell_type": "code",
      "source": [
        "num=10\n",
        "count=0\n",
        "\n",
        "while count<=num:\n",
        "  print(\"the number is \",count)\n",
        "  count=count+1\n"
      ],
      "metadata": {
        "colab": {
          "base_uri": "https://localhost:8080/"
        },
        "id": "VDUjYcN5Jptu",
        "outputId": "6bc4b7b3-f3fb-4250-8376-f038a0a30a73"
      },
      "execution_count": 25,
      "outputs": [
        {
          "output_type": "stream",
          "name": "stdout",
          "text": [
            "the number is  0\n",
            "the number is  1\n",
            "the number is  2\n",
            "the number is  3\n",
            "the number is  4\n",
            "the number is  5\n",
            "the number is  6\n",
            "the number is  7\n",
            "the number is  8\n",
            "the number is  9\n",
            "the number is  10\n"
          ]
        }
      ]
    },
    {
      "cell_type": "code",
      "source": [
        "#13. If you had a function named bacon() inside a module named spam, how would you call it after\n",
        "#importing spam?\n",
        "\n",
        "from spam import bacon\n",
        "bacon()"
      ],
      "metadata": {
        "id": "zu1jkqCBR-nT"
      },
      "execution_count": null,
      "outputs": []
    },
    {
      "cell_type": "code",
      "source": [
        "\n"
      ],
      "metadata": {
        "id": "ssNRdd0JR-p2"
      },
      "execution_count": null,
      "outputs": []
    },
    {
      "cell_type": "code",
      "source": [
        ""
      ],
      "metadata": {
        "id": "tb25YZ7UR-r6"
      },
      "execution_count": null,
      "outputs": []
    },
    {
      "cell_type": "code",
      "source": [
        ""
      ],
      "metadata": {
        "id": "oqnlnXnqR-uC"
      },
      "execution_count": null,
      "outputs": []
    },
    {
      "cell_type": "code",
      "source": [
        ""
      ],
      "metadata": {
        "id": "1SczynO2R-v0"
      },
      "execution_count": null,
      "outputs": []
    },
    {
      "cell_type": "code",
      "source": [
        ""
      ],
      "metadata": {
        "id": "IitSfFfWR-x6"
      },
      "execution_count": null,
      "outputs": []
    },
    {
      "cell_type": "code",
      "source": [
        ""
      ],
      "metadata": {
        "id": "4Dw30AAyR-z_"
      },
      "execution_count": null,
      "outputs": []
    },
    {
      "cell_type": "code",
      "source": [
        ""
      ],
      "metadata": {
        "id": "K8Sa7JRjR-10"
      },
      "execution_count": null,
      "outputs": []
    },
    {
      "cell_type": "code",
      "source": [
        ""
      ],
      "metadata": {
        "id": "YUfNgBpoR-4b"
      },
      "execution_count": null,
      "outputs": []
    },
    {
      "cell_type": "code",
      "source": [
        ""
      ],
      "metadata": {
        "id": "i0DT_1PCR37N"
      },
      "execution_count": null,
      "outputs": []
    }
  ]
}
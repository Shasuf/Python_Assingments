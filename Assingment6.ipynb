{
  "nbformat": 4,
  "nbformat_minor": 0,
  "metadata": {
    "colab": {
      "name": "Assingment6.ipynb",
      "provenance": [],
      "authorship_tag": "ABX9TyNdPsVeBkaXl2Eh7tI9cvxO",
      "include_colab_link": true
    },
    "kernelspec": {
      "name": "python3",
      "display_name": "Python 3"
    },
    "language_info": {
      "name": "python"
    }
  },
  "cells": [
    {
      "cell_type": "markdown",
      "metadata": {
        "id": "view-in-github",
        "colab_type": "text"
      },
      "source": [
        "<a href=\"https://colab.research.google.com/github/Shasuf/Python_Assingments/blob/main/Assingment6.ipynb\" target=\"_parent\"><img src=\"https://colab.research.google.com/assets/colab-badge.svg\" alt=\"Open In Colab\"/></a>"
      ]
    },
    {
      "cell_type": "code",
      "source": [
        "#1)What are escape characters, and how do you use them?\n",
        "\n",
        "its is \\, used to represent certain actions. eg \\n= newline, \\t= tab"
      ],
      "metadata": {
        "id": "s2JFNTRwZdZP"
      },
      "execution_count": null,
      "outputs": []
    },
    {
      "cell_type": "code",
      "source": [
        "2. What do the escape characters n and t stand for?\n",
        "\\n stands for newline\n",
        "\\t stands for tab"
      ],
      "metadata": {
        "id": "RTP_eanlZ0Dy"
      },
      "execution_count": null,
      "outputs": []
    },
    {
      "cell_type": "code",
      "source": [
        "3. What is the way to include backslash characters in a string?\n",
        "it should be included between \" \" \"\\n\""
      ],
      "metadata": {
        "id": "mO_gFJE0Z7qd"
      },
      "execution_count": null,
      "outputs": []
    },
    {
      "cell_type": "code",
      "source": [
        "4. The string \"Howl's Moving Castle\" is a correct value. Why isn't the single quote character in the\n",
        "word Howl's not escaped a problem?\n",
        "\n",
        "because its within to \" \"\n",
        "\n"
      ],
      "metadata": {
        "id": "tTdGjFCdaKiE"
      },
      "execution_count": null,
      "outputs": []
    },
    {
      "cell_type": "code",
      "source": [
        "# 5.How do you write a string of newlines if you don't want to use the n character?\n",
        "\n",
        "\"\\n\"\n"
      ],
      "metadata": {
        "colab": {
          "base_uri": "https://localhost:8080/",
          "height": 37
        },
        "id": "V5OgQmzxcAbY",
        "outputId": "6cd92b7a-282b-4b41-9b78-1e83853063af"
      },
      "execution_count": 11,
      "outputs": [
        {
          "output_type": "execute_result",
          "data": {
            "text/plain": [
              "'\\n'"
            ],
            "application/vnd.google.colaboratory.intrinsic+json": {
              "type": "string"
            }
          },
          "metadata": {},
          "execution_count": 11
        }
      ]
    },
    {
      "cell_type": "code",
      "source": [
        "6. What are the values of the given expressions?\n",
        "\"Hello, world!\" [1]=e\n",
        "\"Hello, world!\"[0:5]=hello\n",
        "\"Hello, world!\"[:5]=hello\n",
        "\"Hello, world!\"[3:]=lo world\n"
      ],
      "metadata": {
        "id": "Uf7tu11SdPo6"
      },
      "execution_count": null,
      "outputs": []
    },
    {
      "cell_type": "code",
      "source": [
        "7. What are the values of the following expressions?\n",
        "\"Hello\".upper()=HELLO\n",
        "\"Hello\".upper().isupper()=tRUE\n",
        "\"Hello\".upper().lower()=hello"
      ],
      "metadata": {
        "id": "2iZV7LzUeSsF"
      },
      "execution_count": null,
      "outputs": []
    },
    {
      "cell_type": "code",
      "source": [
        "8. What are the values of the following expressions?\n",
        "\n",
        "'Remember, remember, the fifth of July'.split()=['Remember,', 'remember,', 'the', 'fifth', 'of', 'July']\n",
        "\"_\".join(\"There can only one\".split())='There_can_only_one'"
      ],
      "metadata": {
        "id": "neLWKzDAegDh"
      },
      "execution_count": null,
      "outputs": []
    },
    {
      "cell_type": "code",
      "source": [
        "9. What are the methods for right-justifying, left-justifying, and centering a string?\n",
        "\n",
        "rjust(),ljust(),center()"
      ],
      "metadata": {
        "id": "ABaEcjOEfJrj"
      },
      "execution_count": null,
      "outputs": []
    },
    {
      "cell_type": "code",
      "source": [
        "10. What is the best way to remove whitespace characters from the start or end?\n",
        "string.Trim()"
      ],
      "metadata": {
        "id": "Hk2j7Z_If7tr"
      },
      "execution_count": null,
      "outputs": []
    }
  ]
}
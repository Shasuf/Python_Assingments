{
  "nbformat": 4,
  "nbformat_minor": 0,
  "metadata": {
    "colab": {
      "name": "Assingment3.ipynb",
      "provenance": [],
      "authorship_tag": "ABX9TyMud9fdUOP/33j8i2WbTp9n",
      "include_colab_link": true
    },
    "kernelspec": {
      "name": "python3",
      "display_name": "Python 3"
    },
    "language_info": {
      "name": "python"
    }
  },
  "cells": [
    {
      "cell_type": "markdown",
      "metadata": {
        "id": "view-in-github",
        "colab_type": "text"
      },
      "source": [
        "<a href=\"https://colab.research.google.com/github/Shasuf/Python_Assingments/blob/main/Assingment3.ipynb\" target=\"_parent\"><img src=\"https://colab.research.google.com/assets/colab-badge.svg\" alt=\"Open In Colab\"/></a>"
      ]
    },
    {
      "cell_type": "code",
      "source": [
        "1. Why are functions advantageous to have in your programs?\n",
        "\n",
        "because you can call a set of function n number of times in your problem\n"
      ],
      "metadata": {
        "id": "5izJyUy9ggrv"
      },
      "execution_count": null,
      "outputs": []
    },
    {
      "cell_type": "code",
      "source": [
        "2. When does the code in a function run: when it's specified or when it's called?\n",
        "\n",
        "when it is called"
      ],
      "metadata": {
        "id": "olBkfmgkg4eM"
      },
      "execution_count": null,
      "outputs": []
    },
    {
      "cell_type": "code",
      "source": [
        "3.What statement creates a function?\n",
        "\n",
        "def name(a,b):\n",
        "  return(a,b)\n",
        "\n",
        "name of function and list of arguments"
      ],
      "metadata": {
        "id": "vFRG7KwhhHzv"
      },
      "execution_count": null,
      "outputs": []
    },
    {
      "cell_type": "code",
      "source": [
        "4. What is the difference between a function and a function call?\n",
        "\n",
        "A function is a block of code that returns a Value\n",
        "A function call is used to pass control to a function"
      ],
      "metadata": {
        "id": "iQcoNylgh5QS"
      },
      "execution_count": null,
      "outputs": []
    },
    {
      "cell_type": "code",
      "source": [
        "5. How many global scopes are there in a Python program? How many local scopes?\n",
        "\n",
        "there are three scopes global,local and build in . per prog can have only 1 global "
      ],
      "metadata": {
        "id": "JjNn1a7Jk2MA"
      },
      "execution_count": null,
      "outputs": []
    },
    {
      "cell_type": "code",
      "source": [
        "6. What happens to variables in a local scope when the function call returns?\n",
        "\n",
        "alocal variable becomes unidentified after the call of the function"
      ],
      "metadata": {
        "id": "WnURkoWsjCy5"
      },
      "execution_count": null,
      "outputs": []
    },
    {
      "cell_type": "code",
      "source": [
        "7. What is the concept of a return value? Is it possible to have a return value in an expression?\n",
        "\n",
        "it returns a value after the completion of the task"
      ],
      "metadata": {
        "id": "5d5aYktpjO3O"
      },
      "execution_count": null,
      "outputs": []
    },
    {
      "cell_type": "code",
      "source": [
        "8. If a function does not have a return statement, what is the return value of a call to that function?\n",
        "\n",
        "it will not return anything"
      ],
      "metadata": {
        "id": "TP9POh71jXXO"
      },
      "execution_count": null,
      "outputs": []
    },
    {
      "cell_type": "code",
      "source": [
        "9. How do you make a function variable refer to the global variable?\n",
        "\n",
        "use global keyword inthe fuction"
      ],
      "metadata": {
        "id": "uiqlj5T9jlWy"
      },
      "execution_count": null,
      "outputs": []
    },
    {
      "cell_type": "code",
      "source": [
        "10. What is the data type of None?\n",
        "\n",
        "it is fale or empty string"
      ],
      "metadata": {
        "id": "ibIU93_Wjt2B"
      },
      "execution_count": null,
      "outputs": []
    },
    {
      "cell_type": "code",
      "source": [
        "11. What does the sentence import areallyourpetsnamederic do?\n",
        "\n",
        "it imports areallyourpetsnamederic"
      ],
      "metadata": {
        "id": "JUU4hQm1kqmT"
      },
      "execution_count": null,
      "outputs": []
    },
    {
      "cell_type": "code",
      "source": [
        "12. If you had a bacon() feature in a spam module, what would you call it after importing spam?\n",
        "\n",
        "spam.bacon()\n"
      ],
      "metadata": {
        "id": "mRmnls4Ok30d"
      },
      "execution_count": null,
      "outputs": []
    },
    {
      "cell_type": "code",
      "source": [
        "13. What can you do to save a programme from crashing if it encounters an error?\n",
        "\n",
        "control is passed to exceptional"
      ],
      "metadata": {
        "id": "qshsC5A1lWBO"
      },
      "execution_count": null,
      "outputs": []
    },
    {
      "cell_type": "code",
      "source": [
        "14. What is the purpose of the try clause? What is the purpose of the except clause?\n",
        "\n",
        "it is used to check error and can excute only when there is no error"
      ],
      "metadata": {
        "id": "a089JM0olh0_"
      },
      "execution_count": null,
      "outputs": []
    }
  ]
}
{
  "nbformat": 4,
  "nbformat_minor": 0,
  "metadata": {
    "colab": {
      "name": "Assingment1.ipynb",
      "provenance": [],
      "authorship_tag": "ABX9TyM8t0Os5rz3dHLmlOp70XBy",
      "include_colab_link": true
    },
    "kernelspec": {
      "name": "python3",
      "display_name": "Python 3"
    },
    "language_info": {
      "name": "python"
    }
  },
  "cells": [
    {
      "cell_type": "markdown",
      "metadata": {
        "id": "view-in-github",
        "colab_type": "text"
      },
      "source": [
        "<a href=\"https://colab.research.google.com/github/Shasuf/Python_Assingments/blob/main/Assingment1.ipynb\" target=\"_parent\"><img src=\"https://colab.research.google.com/assets/colab-badge.svg\" alt=\"Open In Colab\"/></a>"
      ]
    },
    {
      "cell_type": "code",
      "execution_count": null,
      "metadata": {
        "id": "SJZXeHKW5jlJ"
      },
      "outputs": [],
      "source": [
        "1. In the below elements which of them are values or an expression? eg:- values can be\n",
        "integer or string and expressions will be mathematical operators.\n",
        "*\n",
        "&\n",
        "#39;hello&#39;\n",
        "-87.8\n",
        "-\n",
        "/\n",
        "+\n",
        "6\n"
      ]
    },
    {
      "cell_type": "markdown",
      "source": [
        "values are-39,-87.8,6,'hello'\n",
        "expression- *,&,#,-,/,+"
      ],
      "metadata": {
        "id": "qvy-04j9LIrO"
      }
    },
    {
      "cell_type": "code",
      "source": [
        "What is the difference between string and variable?\n",
        "\n",
        "A string is a datatype that is enclosed within \" \". it can be a set of words, an integer\n",
        "eg-\"sharfa\". \n",
        "\n",
        "variable is used to store value. variable stores all kinds of datatype and can change depending onthe requirement"
      ],
      "metadata": {
        "id": "LlTQoddqLhMh"
      },
      "execution_count": null,
      "outputs": []
    },
    {
      "cell_type": "code",
      "source": [
        "Describe three different data types.\n",
        "\n",
        "it is the kind of value the variable holds. it can be anything from string, integer, boolean, float"
      ],
      "metadata": {
        "id": "ac6mLMO1MQh9"
      },
      "execution_count": null,
      "outputs": []
    },
    {
      "cell_type": "code",
      "source": [
        "What is an expression made up of? What do all expressions do?\n",
        "\n",
        "it is a set of commands made up of integers,float and operands etc. it is assingned a task or enclosed in an syntex thst comes up with some value."
      ],
      "metadata": {
        "id": "bRnIYUsyMlwT"
      },
      "execution_count": null,
      "outputs": []
    },
    {
      "cell_type": "code",
      "source": [
        "#This assignment statements, like spam = 10. What is the difference between an\n",
        "#expression and a statement?\n",
        "\n",
        "\n",
        "spam=10\n",
        "count=0\n",
        "\n",
        "while count<spam:\n",
        "  print(count,\"this is an expression\")\n",
        "  count=count+1\n",
        "\n"
      ],
      "metadata": {
        "colab": {
          "base_uri": "https://localhost:8080/"
        },
        "id": "jzbZBwUONOXS",
        "outputId": "9145fb9b-8dac-4692-d70e-c30e630a998f"
      },
      "execution_count": 5,
      "outputs": [
        {
          "output_type": "stream",
          "name": "stdout",
          "text": [
            "0 this is an expression\n",
            "1 this is an expression\n",
            "2 this is an expression\n",
            "3 this is an expression\n",
            "4 this is an expression\n",
            "5 this is an expression\n",
            "6 this is an expression\n",
            "7 this is an expression\n",
            "8 this is an expression\n",
            "9 this is an expression\n"
          ]
        }
      ]
    },
    {
      "cell_type": "code",
      "source": [
        "a=\"this is a statement\"\n",
        "A statement has no value"
      ],
      "metadata": {
        "id": "N79fItdVODUo"
      },
      "execution_count": null,
      "outputs": []
    },
    {
      "cell_type": "code",
      "source": [
        "#After running the following code, what does the variable bacon contain?\n",
        "bacon = 22\n",
        "bacon + 1"
      ],
      "metadata": {
        "colab": {
          "base_uri": "https://localhost:8080/"
        },
        "id": "l2FhAyNGNmTI",
        "outputId": "36914889-41ad-4abf-cfe3-5486b484c2b7"
      },
      "execution_count": 6,
      "outputs": [
        {
          "output_type": "execute_result",
          "data": {
            "text/plain": [
              "23"
            ]
          },
          "metadata": {},
          "execution_count": 6
        }
      ]
    },
    {
      "cell_type": "code",
      "source": [
        "#What should the values of the following two terms be?\n",
        "a=\"spam\"+\"spamspam\"\n",
        "a\n"
      ],
      "metadata": {
        "colab": {
          "base_uri": "https://localhost:8080/",
          "height": 37
        },
        "id": "1lInFVAaOOxK",
        "outputId": "1046d6c4-e420-433e-cf37-6bd230296cf9"
      },
      "execution_count": 9,
      "outputs": [
        {
          "output_type": "execute_result",
          "data": {
            "text/plain": [
              "'spamspamspam'"
            ],
            "application/vnd.google.colaboratory.intrinsic+json": {
              "type": "string"
            }
          },
          "metadata": {},
          "execution_count": 9
        }
      ]
    },
    {
      "cell_type": "code",
      "source": [
        "b=\"spam\" * 3\n",
        "b"
      ],
      "metadata": {
        "colab": {
          "base_uri": "https://localhost:8080/",
          "height": 37
        },
        "id": "Vt8Gm0QZOl3z",
        "outputId": "d64b2bc5-b544-46e2-da98-386d004f6efa"
      },
      "execution_count": 10,
      "outputs": [
        {
          "output_type": "execute_result",
          "data": {
            "text/plain": [
              "'spamspamspam'"
            ],
            "application/vnd.google.colaboratory.intrinsic+json": {
              "type": "string"
            }
          },
          "metadata": {},
          "execution_count": 10
        }
      ]
    },
    {
      "cell_type": "code",
      "source": [
        "Why is eggs a valid variable name while 100 is invalid?\n",
        "\n",
        "A variable can only start with alpa or _"
      ],
      "metadata": {
        "id": "S_KhpY4tOpyE"
      },
      "execution_count": null,
      "outputs": []
    },
    {
      "cell_type": "code",
      "source": [
        "#What three functions can be used to get the integer, floating-point number, or string\n",
        "#version of a value?\n",
        "\n",
        "\n",
        "a=int(input(\"enter number \"))"
      ],
      "metadata": {
        "colab": {
          "base_uri": "https://localhost:8080/"
        },
        "id": "ff2HpOKsO5zF",
        "outputId": "850fd4f8-745b-4979-caed-4e9bc1fda12e"
      },
      "execution_count": 13,
      "outputs": [
        {
          "name": "stdout",
          "output_type": "stream",
          "text": [
            "enter number 10\n"
          ]
        }
      ]
    },
    {
      "cell_type": "code",
      "source": [
        "a=float(input(\"enter float number \"))"
      ],
      "metadata": {
        "colab": {
          "base_uri": "https://localhost:8080/"
        },
        "id": "LtG7686VPJ2c",
        "outputId": "72cb8ac8-8849-4968-b197-94173708fdb0"
      },
      "execution_count": 15,
      "outputs": [
        {
          "name": "stdout",
          "output_type": "stream",
          "text": [
            "enter float number 13.2\n"
          ]
        }
      ]
    },
    {
      "cell_type": "code",
      "source": [
        "a=input(\"enter string \")"
      ],
      "metadata": {
        "colab": {
          "base_uri": "https://localhost:8080/"
        },
        "id": "UgRd8OBNPNYh",
        "outputId": "9ff75a1c-bf46-43f0-91ae-1973684916e0"
      },
      "execution_count": 18,
      "outputs": [
        {
          "name": "stdout",
          "output_type": "stream",
          "text": [
            "enter string sharfa\n"
          ]
        }
      ]
    },
    {
      "cell_type": "code",
      "source": [
        "#Why does this expression cause an error? How can you fix it?\n",
        "\n",
        "\n",
        "'i have eaten' +99 +'burritos'\n",
        "\n",
        "we cannot add integer and string values\n"
      ],
      "metadata": {
        "id": "2uflXM3HPfFs"
      },
      "execution_count": null,
      "outputs": []
    },
    {
      "cell_type": "code",
      "source": [
        "'i have eaten' +\" burritos\""
      ],
      "metadata": {
        "colab": {
          "base_uri": "https://localhost:8080/",
          "height": 37
        },
        "id": "PmCiCj2WPwiy",
        "outputId": "b552d82e-1955-4425-c6f3-f106727ef92c"
      },
      "execution_count": 19,
      "outputs": [
        {
          "output_type": "execute_result",
          "data": {
            "text/plain": [
              "'i have eaten burritos'"
            ],
            "application/vnd.google.colaboratory.intrinsic+json": {
              "type": "string"
            }
          },
          "metadata": {},
          "execution_count": 19
        }
      ]
    },
    {
      "cell_type": "code",
      "source": [
        ""
      ],
      "metadata": {
        "id": "vh-Yp5PhQPqJ"
      },
      "execution_count": null,
      "outputs": []
    }
  ]
}
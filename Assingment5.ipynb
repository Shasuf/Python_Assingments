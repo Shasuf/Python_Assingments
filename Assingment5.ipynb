{
  "nbformat": 4,
  "nbformat_minor": 0,
  "metadata": {
    "colab": {
      "name": "Assingment5.ipynb",
      "provenance": [],
      "authorship_tag": "ABX9TyPT51dFvFUJua/q1hPXqWPa",
      "include_colab_link": true
    },
    "kernelspec": {
      "name": "python3",
      "display_name": "Python 3"
    },
    "language_info": {
      "name": "python"
    }
  },
  "cells": [
    {
      "cell_type": "markdown",
      "metadata": {
        "id": "view-in-github",
        "colab_type": "text"
      },
      "source": [
        "<a href=\"https://colab.research.google.com/github/Shasuf/Python_Assingments/blob/main/Assingment5.ipynb\" target=\"_parent\"><img src=\"https://colab.research.google.com/assets/colab-badge.svg\" alt=\"Open In Colab\"/></a>"
      ]
    },
    {
      "cell_type": "code",
      "source": [
        "#1. What does an empty dictionary&#39;s code look like?\n",
        "\n",
        "dic={'':\" \"}\n",
        "dic"
      ],
      "metadata": {
        "colab": {
          "base_uri": "https://localhost:8080/"
        },
        "id": "i0DT_1PCR37N",
        "outputId": "4f9158d0-5a55-4c82-fc69-31a26880c029"
      },
      "execution_count": null,
      "outputs": [
        {
          "output_type": "execute_result",
          "data": {
            "text/plain": [
              "{'': ' '}"
            ]
          },
          "metadata": {},
          "execution_count": 71
        }
      ]
    },
    {
      "cell_type": "code",
      "source": [
        "#2. What is the value of a dictionary value with the key 'foo' and the value 42?\n",
        "\n",
        "dic={'foo':\"42\"}\n",
        "dic"
      ],
      "metadata": {
        "colab": {
          "base_uri": "https://localhost:8080/"
        },
        "id": "dC6IzXTiZx4b",
        "outputId": "b0b745cf-93a8-4faa-c00a-393d5dc28d4d"
      },
      "execution_count": null,
      "outputs": [
        {
          "output_type": "execute_result",
          "data": {
            "text/plain": [
              "{'foo': '42'}"
            ]
          },
          "metadata": {},
          "execution_count": 73
        }
      ]
    },
    {
      "cell_type": "code",
      "source": [
        "#What is the most significant distinction between a dictionary and a list?\n",
        "\n",
        "items in dic are accessed by keys where as in list they are accesed by index"
      ],
      "metadata": {
        "id": "ixCrARf1aUGc"
      },
      "execution_count": null,
      "outputs": []
    },
    {
      "cell_type": "code",
      "source": [
        "#4. What happens if you try to access spam['foo'] if spam is {'bar': 100}?\n",
        "\n",
        "spam={'bar': 100}\n",
        "\n",
        "for i in spam:\n",
        "  if i== 'foof':\n",
        "    print(\"avaible\")\n",
        "\n",
        "\n",
        "give error\n"
      ],
      "metadata": {
        "id": "b1tkG0PpPUpo"
      },
      "execution_count": 1,
      "outputs": []
    },
    {
      "cell_type": "code",
      "source": [
        "#5. If a dictionary is stored in spam, what is the difference between the expressions \"cat\" in spam and\n",
        "#'cat' in spam.keys()?\n",
        "\n",
        "spam={'cat':'cat'}\n",
        "\n",
        "nothing happens keys look for key and values for the value in dictionary\n",
        "\n",
        "\n"
      ],
      "metadata": {
        "id": "6VG-VL-6apgC"
      },
      "execution_count": 5,
      "outputs": []
    },
    {
      "cell_type": "code",
      "source": [
        "7. What is a shortcut for the following code?\n",
        "if \" color\" not in spam:\n",
        "spam[\"color\"] = \"black\""
      ],
      "metadata": {
        "id": "dlZCKMzUVkDR"
      },
      "execution_count": null,
      "outputs": []
    },
    {
      "cell_type": "code",
      "source": [
        "spam.setdefault('color', 'black')"
      ],
      "metadata": {
        "id": "brtRG8i4TxhC"
      },
      "execution_count": null,
      "outputs": []
    },
    {
      "cell_type": "code",
      "source": [
        "8. How do you \"pretty print\" dictionary values using which module and function?\n",
        "\n",
        "\n"
      ],
      "metadata": {
        "id": "lW5OxC_ZY4vb"
      },
      "execution_count": null,
      "outputs": []
    }
  ]
}